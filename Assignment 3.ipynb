{
 "cells": [
  {
   "cell_type": "markdown",
   "metadata": {},
   "source": [
    "# ML Summer School - Assignment 3\n",
    "\n",
    "Welcome to Machine Learning Summer School (2018) - Assignment 3. In this assignment, you will make a model that recognises faces! We will also explore Dimensionality Reduction.\n",
    "\n",
    "In this assignment, we will use `NumPy`, `Matplotlib`, `sklearn`, and `skimage` (an image processing library). Instead of `skimage`, one could instead use other image processing libraries like `OpenCV`, `Pillow`, `scipy.ndimage` etc. But for the sake of uniformity, you have to complete this assignment using `skimage`."
   ]
  },
  {
   "cell_type": "markdown",
   "metadata": {},
   "source": [
    "# Importing libraries"
   ]
  },
  {
   "cell_type": "code",
   "execution_count": 1,
   "metadata": {},
   "outputs": [],
   "source": [
    "%matplotlib inline\n",
    "\n",
    "import os\n",
    "import time\n",
    "\n",
    "import matplotlib\n",
    "import matplotlib.pyplot as plt\n",
    "import numpy as np\n",
    "from sklearn.decomposition import PCA\n",
    "from sklearn.linear_model import LogisticRegression\n",
    "from sklearn.model_selection import train_test_split\n",
    "from sklearn.metrics import classification_report\n",
    "from sklearn.metrics import f1_score\n",
    "from sklearn.metrics import accuracy_score\n",
    "from sklearn.preprocessing import scale, StandardScaler\n",
    "from sklearn.svm import LinearSVC"
   ]
  },
  {
   "cell_type": "markdown",
   "metadata": {},
   "source": [
    "# Loading data"
   ]
  },
  {
   "cell_type": "markdown",
   "metadata": {},
   "source": [
    "## Task 1\n",
    "\n",
    "The first task is to load the images from data/folder as NumPy array. First manually go through the data, and understand how it is organised.  \n",
    "\n",
    "`X` should be a NumPy array containing images and `y` should contain the corresponding labels. \n",
    "\n",
    "Go through `os.path.join` and `os.listdir` functions. Refer to [`skimage.io.imread`](http://scikit-image.org/docs/dev/api/skimage.io.html#skimage.io.imread) function for loading image."
   ]
  },
  {
   "cell_type": "code",
   "execution_count": 2,
   "metadata": {},
   "outputs": [
    {
     "name": "stdout",
     "output_type": "stream",
     "text": [
      "X.shape: (400, 112, 92), y.shape: (400,)\n"
     ]
    }
   ],
   "source": [
    "from skimage import io\n",
    "\n",
    "X = []\n",
    "y = []\n",
    "\n",
    "for sub_dir in os.listdir('data'):\n",
    "    if not os.path.isdir(os.path.join('data', sub_dir)):\n",
    "        continue\n",
    "        \n",
    "    label = int(sub_dir[1:])\n",
    "    for file in os.listdir(os.path.join('data', sub_dir)):\n",
    "        filename = os.path.join('data', sub_dir, file)\n",
    "        \n",
    "        # YOUR CODE STARTS HERE\n",
    "        image=io.imread(filename)\n",
    "        # YOUR CODE ENDS HERE\n",
    "\n",
    "        X.append(image)\n",
    "        y.append(label)\n",
    "        \n",
    "X = np.array(X, dtype='float64')\n",
    "y = np.array(y)\n",
    "\n",
    "print(\"X.shape: {}, y.shape: {}\".format(X.shape, y.shape))"
   ]
  },
  {
   "cell_type": "markdown",
   "metadata": {},
   "source": [
    "# Analysing data\n",
    "\n",
    "Let us first visualise the first image of our dataset."
   ]
  },
  {
   "cell_type": "code",
   "execution_count": 3,
   "metadata": {},
   "outputs": [
    {
     "data": {
      "image/png": "[encoded data removed]",
      "text/plain": [
       "<Figure size 432x288 with 1 Axes>"
      ]
     },
     "metadata": {},
     "output_type": "display_data"
    }
   ],
   "source": [
    "imgplot = plt.imshow(X[0],cmap=\"gray\")\n",
    "plt.show()"
   ]
  },
  {
   "cell_type": "markdown",
   "metadata": {},
   "source": [
    "There are 40 subjects in our dataset with 10 images for each of them."
   ]
  },
  {
   "cell_type": "code",
   "execution_count": 4,
   "metadata": {},
   "outputs": [
    {
     "name": "stdout",
     "output_type": "stream",
     "text": [
      "Number of images : 400\n",
      "Shape of each image: 112 x 92\n"
     ]
    }
   ],
   "source": [
    "print('Number of images :', X.shape[0])\n",
    "print('Shape of each image:', X.shape[1], 'x', X.shape[2])"
   ]
  },
  {
   "cell_type": "markdown",
   "metadata": {},
   "source": [
    "# Feature Extraction"
   ]
  },
  {
   "cell_type": "markdown",
   "metadata": {},
   "source": [
    "## Task 2\n",
    "\n",
    "Currently, `X` is a 3D NumPy array. For each of the 400 images, we have a corresponding 2D matrix storing the pixel values. We will flatten this 2D matrix and use the flattened vector as the feature vector for the image.   \n",
    "\n",
    "Note that the number of features obtained this way are very large. There are a number of better methods to extract features from images that you will study later on.\n",
    "\n",
    "Reshape `X` into 400xN, where N is the number of features (112x92)."
   ]
  },
  {
   "cell_type": "code",
   "execution_count": 5,
   "metadata": {},
   "outputs": [
    {
     "data": {
      "text/plain": [
       "(400, 10304)"
      ]
     },
     "execution_count": 5,
     "metadata": {},
     "output_type": "execute_result"
    }
   ],
   "source": [
    "# YOUR CODE STARTS HERE\n",
    "X=X.reshape(400,10304)\n",
    "# YOUR CODE ENDS HERE\n",
    "\n",
    "X.shape"
   ]
  },
  {
   "cell_type": "markdown",
   "metadata": {},
   "source": [
    "# Dimensionality Reduction"
   ]
  },
  {
   "cell_type": "markdown",
   "metadata": {},
   "source": [
    "We expect that you have gone through the Dimensionality Reduction part of the recommended material. Essentially we use Dimensionality Reduction for, \n",
    "1. *Data Visualisation* - We convert the data from a high number of dimensions to two or three, which we can plot. \n",
    "2. *Speeding up training* and *reducing memory* required to store the data."
   ]
  },
  {
   "cell_type": "markdown",
   "metadata": {},
   "source": [
    "## Data Visualisation"
   ]
  },
  {
   "cell_type": "markdown",
   "metadata": {},
   "source": [
    "First, we will demonstrate how Dimensionality Reduction is used for Data Visualisation. We will reduce the dimensionality of the data to 2 and plot it. Before applying PCA (one of the Dimensionality Reduction algorithms), we will [standardise](http://scikit-learn.org/stable/modules/generated/sklearn.preprocessing.StandardScaler.html#sklearn.preprocessing.StandardScaler) the data. For sake of clarity, we will be only using the data corresponding to the first `num_labels` classes."
   ]
  },
  {
   "cell_type": "code",
   "execution_count": 6,
   "metadata": {},
   "outputs": [],
   "source": [
    "num_labels = 5\n",
    "X_sample = X[y <= num_labels]\n",
    "y_sample = y[y <= num_labels]\n"
   ]
  },
  {
   "cell_type": "code",
   "execution_count": 7,
   "metadata": {},
   "outputs": [],
   "source": [
    "X_sample_scaled = scale(X_sample)"
   ]
  },
  {
   "cell_type": "markdown",
   "metadata": {},
   "source": [
    "## Task 3\n",
    "\n",
    "Reduce the dimensionality of `X_sample_scaled` to 2 using [sklearn.decomposition.PCA](http://scikit-learn.org/stable/modules/generated/sklearn.decomposition.PCA.html) and assign it to `X_sample_2d`"
   ]
  },
  {
   "cell_type": "code",
   "execution_count": 8,
   "metadata": {},
   "outputs": [
    {
     "data": {
      "text/plain": [
       "(50, 2)"
      ]
     },
     "execution_count": 8,
     "metadata": {},
     "output_type": "execute_result"
    }
   ],
   "source": [
    "# YOUR CODE STARTS HERE\n",
    "pca=PCA(n_components=2)\n",
    "X_sample_2d=pca.fit_transform(X_sample)\n",
    "\n",
    "# YOUR CODE ENDS HERE\n",
    "\n",
    "X_sample_2d.shape"
   ]
  },
  {
   "cell_type": "code",
   "execution_count": 10,
   "metadata": {},
   "outputs": [
    {
     "data": {
      "image/png": "[encoded data removed]",
      "text/plain": [
       "<Figure size 576x360 with 2 Axes>"
      ]
     },
     "metadata": {},
     "output_type": "display_data"
    }
   ],
   "source": [
    "fig = plt.figure(figsize=(8, 5))\n",
    "\n",
    "# Go through documentation of this method\n",
    "plt.scatter(X_sample_2d[:,0], X_sample_2d[:,1], c=y_sample, cmap=plt.cm.get_cmap('nipy_spectral', num_labels)) \n",
    "\n",
    "cb = plt.colorbar()\n",
    "loc = np.arange(1, num_labels+1)\n",
    "cb.set_ticks(loc)"
   ]
  },
  {
   "cell_type": "markdown",
   "metadata": {},
   "source": [
    "We can clearly see PCA has projected the highly dimensional dataset into 2 dimensions, which we can see on plotting look clustered. \n",
    "\n",
    "Although this data visualisation is not very useful for supervised learning tasks, they prove useful for unsupervised learning tasks.   "
   ]
  },
  {
   "cell_type": "markdown",
   "metadata": {},
   "source": [
    "## Speeding up training and reducing memory "
   ]
  },
  {
   "cell_type": "markdown",
   "metadata": {},
   "source": [
    "The other two applications of Dimensionality reduction are, speeding up training and reducing memory required to store the data. We will start by investigating the memory required."
   ]
  },
  {
   "cell_type": "code",
   "execution_count": 12,
   "metadata": {},
   "outputs": [
    {
     "name": "stdout",
     "output_type": "stream",
     "text": [
      "Memory used by X: 31.45MB\n"
     ]
    }
   ],
   "source": [
    "print(\"Memory used by X: {:.2f}MB\".format(X.nbytes / 1024 / 1024))"
   ]
  },
  {
   "cell_type": "markdown",
   "metadata": {},
   "source": [
    "In this case, because of low resolution of images and less data, the memory used in storing data is already quite low. It doesn't make sense to use PCA for this purpose."
   ]
  },
  {
   "cell_type": "markdown",
   "metadata": {},
   "source": [
    "### Splitting the dataset"
   ]
  },
  {
   "cell_type": "code",
   "execution_count": 13,
   "metadata": {},
   "outputs": [],
   "source": [
    "X_train, X_temp, y_train, y_temp = train_test_split(X, y, test_size=0.3, random_state=42)\n",
    "X_val, X_test, y_val, y_test = train_test_split(X_temp, y_temp, test_size=0.5, random_state=42)"
   ]
  },
  {
   "cell_type": "markdown",
   "metadata": {},
   "source": [
    "### Standardising the Dataset"
   ]
  },
  {
   "cell_type": "markdown",
   "metadata": {},
   "source": [
    "> Standardization of datasets is a common requirement for many machine learning estimators implemented in scikit-learn; they might behave badly if the individual features do not more or less look like standard normally distributed data.\n",
    "\n",
    "Standardising the dataset is not only [helpful for training](http://scikit-learn.org/stable/modules/preprocessing.html) machine learning models but is also a requirement before applying PCA. We will standardise all three `X_train`, `X_val` and `X_test`. "
   ]
  },
  {
   "cell_type": "code",
   "execution_count": 14,
   "metadata": {},
   "outputs": [],
   "source": [
    "scaler = StandardScaler()\n",
    "scaler = scaler.fit(X_train)\n",
    "\n",
    "X_train_scaled = scaler.transform(X_train)\n",
    "X_val_scaled = scaler.transform(X_val)"
   ]
  },
  {
   "cell_type": "markdown",
   "metadata": {},
   "source": [
    "### Training and Hyperparameter Tuning "
   ]
  },
  {
   "cell_type": "markdown",
   "metadata": {},
   "source": [
    "#### Without Dimensionality reduction\n",
    "\n",
    "We will be using [time magic command](https://ipython.readthedocs.io/en/stable/interactive/magics.html#magic-time) in Jupyter Notebook to measure the time taken in fitting the model. Read up about other useful magic commands like `timeit` `prun`, `lprun` on the web page linked before."
   ]
  },
  {
   "cell_type": "code",
   "execution_count": 27,
   "metadata": {},
   "outputs": [
    {
     "name": "stdout",
     "output_type": "stream",
     "text": [
      "CPU times: user 31.9 s, sys: 0 ns, total: 31.9 s\n",
      "Wall time: 31.9 s\n",
      "Training accuracy: 1.0000, Val Accuracy: 0.8833\n"
     ]
    }
   ],
   "source": [
    "clf = LinearSVC(C=.001)\n",
    "%time clf = clf.fit(X_train_scaled, y_train)\n",
    "\n",
    "print(\"Training accuracy: {:.4f}, Val Accuracy: {:.4f}\".format(clf.score(X_train_scaled, y_train), clf.score(X_val_scaled, y_val)))"
   ]
  },
  {
   "cell_type": "code",
   "execution_count": 28,
   "metadata": {},
   "outputs": [
    {
     "name": "stdout",
     "output_type": "stream",
     "text": [
      "CPU times: user 47.2 s, sys: 424 ms, total: 47.7 s\n",
      "Wall time: 23.9 s\n",
      "Training accuracy: 1.0000, Val Accuracy: 0.8833\n"
     ]
    }
   ],
   "source": [
    "clf = LogisticRegression(C=.001)\n",
    "%time clf = clf.fit(X_train_scaled, y_train)\n",
    "\n",
    "print(\"Training accuracy: {:.4f}, Val Accuracy: {:.4f}\".format(clf.score(X_train_scaled, y_train), clf.score(X_val_scaled, y_val)))"
   ]
  },
  {
   "cell_type": "markdown",
   "metadata": {},
   "source": [
    "#### With Dimensionality reduction\n",
    "\n",
    "Clearly, the time taken to train the model is considerably high. It is infeasible to perform hyperparameter tuning when training the model takes so much time. In some cases when the dataset is even bigger, we might not be able to even train the model with the computing resources in hand. PCA becomes essential to speed up training.  "
   ]
  },
  {
   "cell_type": "markdown",
   "metadata": {},
   "source": [
    "## Task 4\n",
    "\n",
    "Make an object of `PCA` class named `pca` so that 99% of variance is preserved. Refer to the documentation of `PCA` class.  "
   ]
  },
  {
   "cell_type": "code",
   "execution_count": 57,
   "metadata": {},
   "outputs": [],
   "source": [
    "# YOUR CODE STARTS HERE\n",
    "pca=PCA(n_components=0.99)\n",
    "# YOUR CODE ENDS HERE"
   ]
  },
  {
   "cell_type": "code",
   "execution_count": 58,
   "metadata": {},
   "outputs": [
    {
     "name": "stdout",
     "output_type": "stream",
     "text": [
      "Dimensionality reduced to: 236\n"
     ]
    }
   ],
   "source": [
    "X_train_pca = pca.fit_transform(X_train_scaled)\n",
    "X_val_pca = pca.transform(X_val_scaled)\n",
    "\n",
    "print(\"Dimensionality reduced to:\", pca.n_components_)"
   ]
  },
  {
   "cell_type": "code",
   "execution_count": 59,
   "metadata": {},
   "outputs": [
    {
     "name": "stdout",
     "output_type": "stream",
     "text": [
      "CPU times: user 859 ms, sys: 0 ns, total: 859 ms\n",
      "Wall time: 861 ms\n",
      "Training accuracy: 1.0000, Val Accuracy: 0.8333\n"
     ]
    }
   ],
   "source": [
    "clf = LogisticRegression(C=.01)\n",
    "%time clf = clf.fit(X_train_pca, y_train)\n",
    "\n",
    "print(\"Training accuracy: {:.4f}, Val Accuracy: {:.4f}\".format(clf.score(X_train_pca, y_train), clf.score(X_val_pca, y_val)))"
   ]
  },
  {
   "cell_type": "code",
   "execution_count": 60,
   "metadata": {},
   "outputs": [
    {
     "name": "stdout",
     "output_type": "stream",
     "text": [
      "CPU times: user 1.34 s, sys: 0 ns, total: 1.34 s\n",
      "Wall time: 1.15 s\n",
      "Training accuracy: 1.0000, Val Accuracy: 0.8333\n"
     ]
    }
   ],
   "source": [
    "clf = LinearSVC(C=.001)\n",
    "%time clf = clf.fit(X_train_pca, y_train)\n",
    "\n",
    "print(\"Training accuracy: {:.4f}, Val Accuracy: {:.4f}\".format(clf.score(X_train_pca, y_train), clf.score(X_val_pca, y_val)))"
   ]
  },
  {
   "cell_type": "code",
   "execution_count": 99,
   "metadata": {},
   "outputs": [
    {
     "name": "stdout",
     "output_type": "stream",
     "text": [
      "CPU times: user 442 ms, sys: 0 ns, total: 442 ms\n",
      "Wall time: 441 ms\n",
      "Training accuracy: 1.0000, Val Accuracy: 0.8833\n"
     ]
    }
   ],
   "source": [
    "from sklearn.ensemble import RandomForestClassifier\n",
    "clf=RandomForestClassifier(n_estimators=100,min_samples_split=2)\n",
    "%time clf =clf.fit(X_train_pca,y_train)\n",
    "\n",
    "print(\"Training accuracy: {:.4f}, Val Accuracy: {:.4f}\".format(clf.score(X_train_pca, y_train), clf.score(X_val_pca, y_val)))"
   ]
  },
  {
   "cell_type": "markdown",
   "metadata": {},
   "source": [
    "PCA reduced the training time considerably with negligible loss in accuracy. Though the loss in accuracy might not justified in this case (if training the model didn't take much time for you), it might be necessary in some cases. "
   ]
  },
  {
   "cell_type": "markdown",
   "metadata": {},
   "source": [
    "# Testing \n",
    "\n",
    "We now test our model on the testing data. "
   ]
  },
  {
   "cell_type": "code",
   "execution_count": 62,
   "metadata": {},
   "outputs": [],
   "source": [
    "# Couple of utilities functions\n",
    "def plot_gallery(images, titles, rows=3, cols=4):\n",
    "    plt.figure()\n",
    "    for i in range(rows * cols):\n",
    "        fig = plt.subplot(rows, cols, i + 1)\n",
    "        plt.imshow(images[i], cmap=plt.cm.gray)\n",
    "        plt.title(titles[i])\n",
    "        plt.xticks(())\n",
    "        plt.yticks(())\n",
    "    plt.tight_layout()\n",
    "    plt.show()\n",
    "        \n",
    "def titles(y_pred, y_test):\n",
    "    for i in range(y_pred.shape[0]):\n",
    "        yield 'predicted: {0}\\ntrue: {1}'.format(y_pred[i], y_test[i])"
   ]
  },
  {
   "cell_type": "code",
   "execution_count": 63,
   "metadata": {},
   "outputs": [],
   "source": [
    "X_test_scaled = scaler.transform(X_test)\n",
    "X_test_pca = pca.transform(X_test_scaled)"
   ]
  },
  {
   "cell_type": "code",
   "execution_count": 100,
   "metadata": {},
   "outputs": [
    {
     "name": "stdout",
     "output_type": "stream",
     "text": [
      "Accuracy score: 0.8833\n"
     ]
    }
   ],
   "source": [
    "y_pred = clf.predict(X_test_pca)\n",
    "print('Accuracy score: {:.4f}'.format(accuracy_score(y_test, y_pred)))"
   ]
  },
  {
   "cell_type": "markdown",
   "metadata": {},
   "source": [
    "# Predictions"
   ]
  },
  {
   "cell_type": "code",
   "execution_count": 65,
   "metadata": {},
   "outputs": [
    {
     "data": {
      "image/png": "[encoded data removed]",
      "text/plain": [
       "<Figure size 432x288 with 12 Axes>"
      ]
     },
     "metadata": {},
     "output_type": "display_data"
    }
   ],
   "source": [
    "prediction_titles = list(titles(y_pred, y_test))\n",
    "plot_gallery(X_test.reshape(-1, 112, 92), prediction_titles)"
   ]
  },
  {
   "cell_type": "markdown",
   "metadata": {},
   "source": [
    "Congratulations you have built a face recogniser! You also explored the application of dimensionality reduction in this assignment.   \n",
    "\n",
    "If you have sincerely completed the material and the assignments of last two sections, you have gained sufficient knowledge to solve real life supervised Machine Learning problems. You can now go explore the world of competitive machine learning on [Kaggle.com](www.kaggle.com)."
   ]
  }
 ],
 "metadata": {
  "kernelspec": {
   "display_name": "Python 3",
   "language": "python",
   "name": "python3"
  },
  "language_info": {
   "codemirror_mode": {
    "name": "ipython",
    "version": 3
   },
   "file_extension": ".py",
   "mimetype": "text/x-python",
   "name": "python",
   "nbconvert_exporter": "python",
   "pygments_lexer": "ipython3",
   "version": "3.6.5"
  }
 },
 "nbformat": 4,
 "nbformat_minor": 2
}
